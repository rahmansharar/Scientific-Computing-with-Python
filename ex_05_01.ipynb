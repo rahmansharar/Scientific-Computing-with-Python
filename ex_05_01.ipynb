{
 "cells": [
  {
   "cell_type": "code",
   "execution_count": 2,
   "id": "803bd880",
   "metadata": {},
   "outputs": [
    {
     "name": "stdout",
     "output_type": "stream",
     "text": [
      "Enter a number: 4\n",
      "Enter a number: 5\n",
      "Enter a number: d\n",
      "Invalid input\n",
      "Enter a number: 6\n",
      "Enter a number: done\n",
      "15.0 3 5.0\n"
     ]
    }
   ],
   "source": [
    "num = 0\n",
    "tot = 0.0\n",
    "while True:\n",
    "    sval = input(\"Enter a number: \")\n",
    "    if sval==\"done\":\n",
    "        break\n",
    "    try:\n",
    "        fval = float(sval)\n",
    "        #print(fval)\n",
    "    except:\n",
    "        print(\"Invalid input\")\n",
    "        continue\n",
    "    num = num + 1\n",
    "    tot = tot + fval\n",
    "#print(\"All Done\")\n",
    "print(tot, num, tot/num)"
   ]
  },
  {
   "cell_type": "code",
   "execution_count": null,
   "id": "68c500b8",
   "metadata": {},
   "outputs": [],
   "source": []
  }
 ],
 "metadata": {
  "kernelspec": {
   "display_name": "Python 3 (ipykernel)",
   "language": "python",
   "name": "python3"
  },
  "language_info": {
   "codemirror_mode": {
    "name": "ipython",
    "version": 3
   },
   "file_extension": ".py",
   "mimetype": "text/x-python",
   "name": "python",
   "nbconvert_exporter": "python",
   "pygments_lexer": "ipython3",
   "version": "3.11.3"
  }
 },
 "nbformat": 4,
 "nbformat_minor": 5
}
