{
 "cells": [
  {
   "cell_type": "code",
   "execution_count": 1,
   "id": "cac5156f-ef71-45c3-b754-a3feb7317263",
   "metadata": {
    "tags": []
   },
   "outputs": [],
   "source": [
    "def convert_to_snake_case(pascal_or_camel_cased_string):\n",
    "    snake_cased_char_list = [\n",
    "        '_' + char.lower() if char.isupper()\n",
    "        else char\n",
    "        for char in pascal_or_camel_cased_string\n",
    "    ]\n",
    "    return ''.join(snake_cased_char_list).strip('_')"
   ]
  },
  {
   "cell_type": "code",
   "execution_count": 2,
   "id": "e9ba4187-d3d4-4dec-8df5-319206a92dfa",
   "metadata": {
    "tags": []
   },
   "outputs": [],
   "source": [
    "def main():\n",
    "    print(convert_to_snake_case('IAmAPascalCasedString'))"
   ]
  },
  {
   "cell_type": "code",
   "execution_count": 3,
   "id": "bf1a2d22-163c-4b38-aaf0-29cac51b8a5b",
   "metadata": {
    "tags": []
   },
   "outputs": [
    {
     "name": "stdout",
     "output_type": "stream",
     "text": [
      "i_am_a_pascal_cased_string\n"
     ]
    }
   ],
   "source": [
    "if __name__ == '__main__':\n",
    "    main()"
   ]
  },
  {
   "cell_type": "code",
   "execution_count": null,
   "id": "312b5efe-215a-44aa-83b6-4e0b4fb0850d",
   "metadata": {},
   "outputs": [],
   "source": []
  }
 ],
 "metadata": {
  "kernelspec": {
   "display_name": "Python 3 (ipykernel)",
   "language": "python",
   "name": "python3"
  },
  "language_info": {
   "codemirror_mode": {
    "name": "ipython",
    "version": 3
   },
   "file_extension": ".py",
   "mimetype": "text/x-python",
   "name": "python",
   "nbconvert_exporter": "python",
   "pygments_lexer": "ipython3",
   "version": "3.11.3"
  }
 },
 "nbformat": 4,
 "nbformat_minor": 5
}
