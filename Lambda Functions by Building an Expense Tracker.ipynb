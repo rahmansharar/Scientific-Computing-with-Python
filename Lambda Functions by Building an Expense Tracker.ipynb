{
 "cells": [
  {
   "cell_type": "code",
   "execution_count": 2,
   "id": "693f95f6-fbc5-4571-a406-60e6707cb75e",
   "metadata": {
    "tags": []
   },
   "outputs": [],
   "source": [
    "def add_expense(expenses, amount, category):\n",
    "    expenses.append({'amount': amount, 'category': category})"
   ]
  },
  {
   "cell_type": "code",
   "execution_count": 3,
   "id": "b273b8d4-62b1-4d71-88db-9e5620a97f2c",
   "metadata": {
    "tags": []
   },
   "outputs": [],
   "source": [
    "def print_expenses(expenses):\n",
    "    for expense in expenses:\n",
    "        print(f'Amount: {expense[\"amount\"]}, Category: {expense[\"category\"]}')"
   ]
  },
  {
   "cell_type": "code",
   "execution_count": 4,
   "id": "4b078873-4d6b-4174-aeaf-f9bb55b240c4",
   "metadata": {
    "tags": []
   },
   "outputs": [],
   "source": [
    "def total_expenses(expenses):\n",
    "    return sum(map(lambda expense: expense['amount'], expenses))"
   ]
  },
  {
   "cell_type": "code",
   "execution_count": 5,
   "id": "5aa77ba5-ef10-4dac-9b98-826bb28ddab8",
   "metadata": {
    "tags": []
   },
   "outputs": [],
   "source": [
    "def filter_expenses_by_category(expenses, category):\n",
    "    return filter(lambda expense: expense['category'] == category, expenses)"
   ]
  },
  {
   "cell_type": "code",
   "execution_count": 6,
   "id": "ab5ac265-605c-4b1a-b460-9d23ac540304",
   "metadata": {
    "tags": []
   },
   "outputs": [],
   "source": [
    "def main():\n",
    "    expenses = []\n",
    "    while True:\n",
    "        print('\\nExpense Tracker')\n",
    "        print('1. Add an expense')\n",
    "        print('2. List all expenses')\n",
    "        print('3. Show total expenses')\n",
    "        print('4. Filter expenses by category')\n",
    "        print('5. Exit')\n",
    "        \n",
    "        choice = input('Enter your choice: ')\n",
    "\n",
    "        if choice == '1':\n",
    "            amount = float(input('Enter amount: '))\n",
    "            category = input('Enter category: ')\n",
    "            add_expense(expenses, amount, category)\n",
    "\n",
    "        elif choice == '2':\n",
    "            print('\\nAll Expenses:')\n",
    "            print_expenses(expenses)\n",
    "\n",
    "        elif choice == '3':\n",
    "            print('\\nTotal Expenses: ', total_expenses(expenses))\n",
    "\n",
    "        elif choice == '4':\n",
    "            category = input('Enter category to filter: ')\n",
    "            print(f'\\nExpenses for {category}:')\n",
    "            expenses_from_category = filter_expenses_by_category(expenses, category)\n",
    "            print_expenses(expenses_from_category)\n",
    "\n",
    "        elif choice == '5':\n",
    "            print('Exiting the program.')\n",
    "            break"
   ]
  },
  {
   "cell_type": "code",
   "execution_count": 7,
   "id": "c0429b6d-b4f2-4913-ac97-6ace20bbcdbc",
   "metadata": {},
   "outputs": [
    {
     "name": "stdout",
     "output_type": "stream",
     "text": [
      "\n",
      "Expense Tracker\n",
      "1. Add an expense\n",
      "2. List all expenses\n",
      "3. Show total expenses\n",
      "4. Filter expenses by category\n",
      "5. Exit\n"
     ]
    },
    {
     "name": "stdin",
     "output_type": "stream",
     "text": [
      "Enter your choice:  1\n",
      "Enter amount:  5000\n",
      "Enter category:  Food\n"
     ]
    },
    {
     "name": "stdout",
     "output_type": "stream",
     "text": [
      "\n",
      "Expense Tracker\n",
      "1. Add an expense\n",
      "2. List all expenses\n",
      "3. Show total expenses\n",
      "4. Filter expenses by category\n",
      "5. Exit\n"
     ]
    },
    {
     "name": "stdin",
     "output_type": "stream",
     "text": [
      "Enter your choice:  2\n"
     ]
    },
    {
     "name": "stdout",
     "output_type": "stream",
     "text": [
      "\n",
      "All Expenses:\n",
      "Amount: 5000.0, Category: Food\n",
      "\n",
      "Expense Tracker\n",
      "1. Add an expense\n",
      "2. List all expenses\n",
      "3. Show total expenses\n",
      "4. Filter expenses by category\n",
      "5. Exit\n"
     ]
    },
    {
     "name": "stdin",
     "output_type": "stream",
     "text": [
      "Enter your choice:  1\n",
      "Enter amount:  3000\n",
      "Enter category:  Clothes\n"
     ]
    },
    {
     "name": "stdout",
     "output_type": "stream",
     "text": [
      "\n",
      "Expense Tracker\n",
      "1. Add an expense\n",
      "2. List all expenses\n",
      "3. Show total expenses\n",
      "4. Filter expenses by category\n",
      "5. Exit\n"
     ]
    },
    {
     "name": "stdin",
     "output_type": "stream",
     "text": [
      "Enter your choice:  1\n",
      "Enter amount:  10000\n",
      "Enter category:  Education\n"
     ]
    },
    {
     "name": "stdout",
     "output_type": "stream",
     "text": [
      "\n",
      "Expense Tracker\n",
      "1. Add an expense\n",
      "2. List all expenses\n",
      "3. Show total expenses\n",
      "4. Filter expenses by category\n",
      "5. Exit\n"
     ]
    },
    {
     "name": "stdin",
     "output_type": "stream",
     "text": [
      "Enter your choice:  2\n"
     ]
    },
    {
     "name": "stdout",
     "output_type": "stream",
     "text": [
      "\n",
      "All Expenses:\n",
      "Amount: 5000.0, Category: Food\n",
      "Amount: 3000.0, Category: Clothes\n",
      "Amount: 10000.0, Category: Education\n",
      "\n",
      "Expense Tracker\n",
      "1. Add an expense\n",
      "2. List all expenses\n",
      "3. Show total expenses\n",
      "4. Filter expenses by category\n",
      "5. Exit\n"
     ]
    },
    {
     "name": "stdin",
     "output_type": "stream",
     "text": [
      "Enter your choice:  3\n"
     ]
    },
    {
     "name": "stdout",
     "output_type": "stream",
     "text": [
      "\n",
      "Total Expenses:  18000.0\n",
      "\n",
      "Expense Tracker\n",
      "1. Add an expense\n",
      "2. List all expenses\n",
      "3. Show total expenses\n",
      "4. Filter expenses by category\n",
      "5. Exit\n"
     ]
    },
    {
     "name": "stdin",
     "output_type": "stream",
     "text": [
      "Enter your choice:  1\n",
      "Enter amount:  2500\n",
      "Enter category:  Food\n"
     ]
    },
    {
     "name": "stdout",
     "output_type": "stream",
     "text": [
      "\n",
      "Expense Tracker\n",
      "1. Add an expense\n",
      "2. List all expenses\n",
      "3. Show total expenses\n",
      "4. Filter expenses by category\n",
      "5. Exit\n"
     ]
    },
    {
     "name": "stdin",
     "output_type": "stream",
     "text": [
      "Enter your choice:  1\n",
      "Enter amount:  6000\n",
      "Enter category:  Clothes\n"
     ]
    },
    {
     "name": "stdout",
     "output_type": "stream",
     "text": [
      "\n",
      "Expense Tracker\n",
      "1. Add an expense\n",
      "2. List all expenses\n",
      "3. Show total expenses\n",
      "4. Filter expenses by category\n",
      "5. Exit\n"
     ]
    },
    {
     "name": "stdin",
     "output_type": "stream",
     "text": [
      "Enter your choice:  1\n",
      "Enter amount:  8000\n",
      "Enter category:  Education\n"
     ]
    },
    {
     "name": "stdout",
     "output_type": "stream",
     "text": [
      "\n",
      "Expense Tracker\n",
      "1. Add an expense\n",
      "2. List all expenses\n",
      "3. Show total expenses\n",
      "4. Filter expenses by category\n",
      "5. Exit\n"
     ]
    },
    {
     "name": "stdin",
     "output_type": "stream",
     "text": [
      "Enter your choice:  2\n"
     ]
    },
    {
     "name": "stdout",
     "output_type": "stream",
     "text": [
      "\n",
      "All Expenses:\n",
      "Amount: 5000.0, Category: Food\n",
      "Amount: 3000.0, Category: Clothes\n",
      "Amount: 10000.0, Category: Education\n",
      "Amount: 2500.0, Category: Food\n",
      "Amount: 6000.0, Category: Clothes\n",
      "Amount: 8000.0, Category: Education\n",
      "\n",
      "Expense Tracker\n",
      "1. Add an expense\n",
      "2. List all expenses\n",
      "3. Show total expenses\n",
      "4. Filter expenses by category\n",
      "5. Exit\n"
     ]
    },
    {
     "name": "stdin",
     "output_type": "stream",
     "text": [
      "Enter your choice:  3\n"
     ]
    },
    {
     "name": "stdout",
     "output_type": "stream",
     "text": [
      "\n",
      "Total Expenses:  34500.0\n",
      "\n",
      "Expense Tracker\n",
      "1. Add an expense\n",
      "2. List all expenses\n",
      "3. Show total expenses\n",
      "4. Filter expenses by category\n",
      "5. Exit\n"
     ]
    },
    {
     "name": "stdin",
     "output_type": "stream",
     "text": [
      "Enter your choice:  4\n",
      "Enter category to filter:  Food\n"
     ]
    },
    {
     "name": "stdout",
     "output_type": "stream",
     "text": [
      "\n",
      "Expenses for Food:\n",
      "Amount: 5000.0, Category: Food\n",
      "Amount: 2500.0, Category: Food\n",
      "\n",
      "Expense Tracker\n",
      "1. Add an expense\n",
      "2. List all expenses\n",
      "3. Show total expenses\n",
      "4. Filter expenses by category\n",
      "5. Exit\n"
     ]
    },
    {
     "name": "stdin",
     "output_type": "stream",
     "text": [
      "Enter your choice:  5\n"
     ]
    },
    {
     "name": "stdout",
     "output_type": "stream",
     "text": [
      "Exiting the program.\n"
     ]
    }
   ],
   "source": [
    "if __name__ == '__main__':\n",
    "    main()"
   ]
  },
  {
   "cell_type": "code",
   "execution_count": null,
   "id": "8c82720c-dc51-4411-9c7a-f4a7aea2b8b3",
   "metadata": {},
   "outputs": [],
   "source": []
  }
 ],
 "metadata": {
  "kernelspec": {
   "display_name": "Python 3 (ipykernel)",
   "language": "python",
   "name": "python3"
  },
  "language_info": {
   "codemirror_mode": {
    "name": "ipython",
    "version": 3
   },
   "file_extension": ".py",
   "mimetype": "text/x-python",
   "name": "python",
   "nbconvert_exporter": "python",
   "pygments_lexer": "ipython3",
   "version": "3.11.3"
  }
 },
 "nbformat": 4,
 "nbformat_minor": 5
}
