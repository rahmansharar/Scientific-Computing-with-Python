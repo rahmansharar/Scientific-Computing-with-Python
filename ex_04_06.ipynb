{
 "cells": [
  {
   "cell_type": "code",
   "execution_count": 9,
   "id": "d11a9865",
   "metadata": {},
   "outputs": [
    {
     "name": "stdout",
     "output_type": "stream",
     "text": [
      "Enter Hours: 50\n",
      "Enter Rate: 10\n",
      "Pay:  550.0\n"
     ]
    }
   ],
   "source": [
    "def computepay(hours, rate):\n",
    "    #print(\"In computepay\", hours, rate)\n",
    "    if hours > 40:\n",
    "        reg = hours * rate\n",
    "        otp = (hours - 40.0) * (rate * 0.5)\n",
    "        pay = reg + otp\n",
    "    else:\n",
    "        pay = hours * rate  \n",
    "        #print(\"Returning\", pay)\n",
    "    return pay\n",
    "sh = input(\"Enter Hours: \")\n",
    "sr = input(\"Enter Rate: \")\n",
    "fh = float(sh)\n",
    "fr = float(sr)\n",
    "xp = computepay(fh, fr)\n",
    "print(\"Pay: \", xp)"
   ]
  },
  {
   "cell_type": "code",
   "execution_count": null,
   "id": "4701e271",
   "metadata": {},
   "outputs": [],
   "source": []
  }
 ],
 "metadata": {
  "kernelspec": {
   "display_name": "Python 3 (ipykernel)",
   "language": "python",
   "name": "python3"
  },
  "language_info": {
   "codemirror_mode": {
    "name": "ipython",
    "version": 3
   },
   "file_extension": ".py",
   "mimetype": "text/x-python",
   "name": "python",
   "nbconvert_exporter": "python",
   "pygments_lexer": "ipython3",
   "version": "3.11.3"
  }
 },
 "nbformat": 4,
 "nbformat_minor": 5
}
