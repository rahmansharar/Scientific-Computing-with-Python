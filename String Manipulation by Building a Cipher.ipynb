{
 "cells": [
  {
   "cell_type": "code",
   "execution_count": 1,
   "id": "7013731b-dcd1-4a65-a4b2-5dedfd5904b0",
   "metadata": {},
   "outputs": [],
   "source": [
    "text = 'mrttaqrhknsw ih puggrur'\n",
    "custom_key = 'happycoding'"
   ]
  },
  {
   "cell_type": "code",
   "execution_count": 2,
   "id": "97d61563-1c06-4204-94c3-81b50118de6d",
   "metadata": {
    "tags": []
   },
   "outputs": [],
   "source": [
    "def vigenere(message, key, direction=1):\n",
    "    key_index = 0\n",
    "    alphabet = 'abcdefghijklmnopqrstuvwxyz'\n",
    "    final_message = ''\n",
    "\n",
    "    for char in message.lower():\n",
    "\n",
    "        # Append any non-letter character to the message\n",
    "        if not char.isalpha():\n",
    "            final_message += char\n",
    "        else:        \n",
    "            # Find the right key character to encode/decode\n",
    "            key_char = key[key_index % len(key)]\n",
    "            key_index += 1\n",
    "\n",
    "            # Define the offset and the encrypted/decrypted letter\n",
    "            offset = alphabet.index(key_char)\n",
    "            index = alphabet.find(char)\n",
    "            new_index = (index + offset*direction) % len(alphabet)\n",
    "            final_message += alphabet[new_index]\n",
    "    \n",
    "    return final_message"
   ]
  },
  {
   "cell_type": "code",
   "execution_count": 3,
   "id": "6e73a593-6921-4cf3-829e-ca97048ac892",
   "metadata": {
    "tags": []
   },
   "outputs": [],
   "source": [
    "def encrypt(message, key):\n",
    "    return vigenere(message, key)\n",
    "    \n",
    "def decrypt(message, key):\n",
    "    return vigenere(message, key, -1)"
   ]
  },
  {
   "cell_type": "code",
   "execution_count": 4,
   "id": "16097c7e-2ad4-4838-8a3a-1973b4576698",
   "metadata": {
    "tags": []
   },
   "outputs": [
    {
     "name": "stdout",
     "output_type": "stream",
     "text": [
      "\n",
      "Encrypted text: mrttaqrhknsw ih puggrur\n"
     ]
    }
   ],
   "source": [
    "print(f'\\nEncrypted text: {text}')"
   ]
  },
  {
   "cell_type": "code",
   "execution_count": 5,
   "id": "b6d5e393-ad6a-4e82-83ca-15732b0518e4",
   "metadata": {
    "tags": []
   },
   "outputs": [
    {
     "name": "stdout",
     "output_type": "stream",
     "text": [
      "Key: happycoding\n"
     ]
    }
   ],
   "source": [
    "print(f'Key: {custom_key}')"
   ]
  },
  {
   "cell_type": "code",
   "execution_count": 6,
   "id": "7701ed27-cf12-41b3-bc5d-d3745c8b13a7",
   "metadata": {
    "tags": []
   },
   "outputs": [
    {
     "name": "stdout",
     "output_type": "stream",
     "text": [
      "\n",
      "Decrypted text: freecodecamp is awesome\n",
      "\n"
     ]
    }
   ],
   "source": [
    "decryption = decrypt(text, custom_key)\n",
    "print(f'\\nDecrypted text: {decryption}\\n')"
   ]
  },
  {
   "cell_type": "code",
   "execution_count": null,
   "id": "7e1b8538-0e34-4ea4-8bf9-f049b04b7d9e",
   "metadata": {},
   "outputs": [],
   "source": []
  }
 ],
 "metadata": {
  "kernelspec": {
   "display_name": "Python 3 (ipykernel)",
   "language": "python",
   "name": "python3"
  },
  "language_info": {
   "codemirror_mode": {
    "name": "ipython",
    "version": 3
   },
   "file_extension": ".py",
   "mimetype": "text/x-python",
   "name": "python",
   "nbconvert_exporter": "python",
   "pygments_lexer": "ipython3",
   "version": "3.11.3"
  }
 },
 "nbformat": 4,
 "nbformat_minor": 5
}
