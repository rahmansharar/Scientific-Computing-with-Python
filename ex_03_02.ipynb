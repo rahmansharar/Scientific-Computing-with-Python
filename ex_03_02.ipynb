{
 "cells": [
  {
   "cell_type": "code",
   "execution_count": null,
   "id": "5ec56bff",
   "metadata": {},
   "outputs": [],
   "source": [
    "sh = input(\"Enter Hours: \")\n",
    "sr = input(\"Enter Rate: \")\n",
    "try:\n",
    "    fh = float(sh)\n",
    "    fr = float(sr)\n",
    "\n",
    "except:\n",
    "    print(\"Error: Please enter numeric input\")\n",
    "    quit()\n",
    "print(fh, fr)\n",
    "if fh > 40:\n",
    "    #print(\"Overtime\")\n",
    "    reg = fh * fr\n",
    "    otp = (fh - 40) * (fr * 0.5)\n",
    "    #print(reg, otp)\n",
    "    xp = reg + otp\n",
    "else:\n",
    "    #print(\"Regular\")\n",
    "    xp = fh * fr\n",
    "print(\"Pay: \", xp)"
   ]
  },
  {
   "cell_type": "code",
   "execution_count": null,
   "id": "852c0eba",
   "metadata": {},
   "outputs": [],
   "source": []
  }
 ],
 "metadata": {
  "kernelspec": {
   "display_name": "Python 3 (ipykernel)",
   "language": "python",
   "name": "python3"
  },
  "language_info": {
   "codemirror_mode": {
    "name": "ipython",
    "version": 3
   },
   "file_extension": ".py",
   "mimetype": "text/x-python",
   "name": "python",
   "nbconvert_exporter": "python",
   "pygments_lexer": "ipython3",
   "version": "3.11.3"
  }
 },
 "nbformat": 4,
 "nbformat_minor": 5
}
