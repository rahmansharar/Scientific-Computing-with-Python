{
 "cells": [
  {
   "cell_type": "code",
   "execution_count": 24,
   "id": "ec3f99fe",
   "metadata": {},
   "outputs": [
    {
     "name": "stdout",
     "output_type": "stream",
     "text": [
      "Enter Hours: 50\n",
      "Enter Rate: 10\n"
     ]
    }
   ],
   "source": [
    "sh = input(\"Enter Hours: \")\n",
    "sr = input(\"Enter Rate: \")"
   ]
  },
  {
   "cell_type": "code",
   "execution_count": 25,
   "id": "1a702716",
   "metadata": {},
   "outputs": [],
   "source": [
    "fh = float(sh)\n",
    "fr = float(sr)\n",
    "#print(fh, fr)\n",
    "if fh > 40:\n",
    "    #print(\"Overtime\")\n",
    "    reg = fh * fr\n",
    "    otp = (fh - 40) * (fr * 0.5)\n",
    "    #print(reg, otp)\n",
    "    xp = reg + otp\n",
    "else:\n",
    "    #print(\"Regular\")\n",
    "    xp = fh * fr"
   ]
  },
  {
   "cell_type": "code",
   "execution_count": 26,
   "id": "583d6c7b",
   "metadata": {},
   "outputs": [
    {
     "name": "stdout",
     "output_type": "stream",
     "text": [
      "Pay:  550.0\n"
     ]
    }
   ],
   "source": [
    "print(\"Pay: \", xp)"
   ]
  },
  {
   "cell_type": "code",
   "execution_count": null,
   "id": "6d43861d",
   "metadata": {},
   "outputs": [],
   "source": []
  }
 ],
 "metadata": {
  "kernelspec": {
   "display_name": "Python 3 (ipykernel)",
   "language": "python",
   "name": "python3"
  },
  "language_info": {
   "codemirror_mode": {
    "name": "ipython",
    "version": 3
   },
   "file_extension": ".py",
   "mimetype": "text/x-python",
   "name": "python",
   "nbconvert_exporter": "python",
   "pygments_lexer": "ipython3",
   "version": "3.11.3"
  }
 },
 "nbformat": 4,
 "nbformat_minor": 5
}
